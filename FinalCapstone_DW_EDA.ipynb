{
 "cells": [
  {
   "cell_type": "markdown",
   "id": "cecf8dc3",
   "metadata": {},
   "source": [
    "## Final Capstone - Sentiment Analysis of Yelp Business Reviews"
   ]
  },
  {
   "cell_type": "markdown",
   "id": "1ee3acf3",
   "metadata": {},
   "source": [
    "Part I: Data Wrangling & Exploratory Data Analysis\n",
    "\n",
    "Biman Mondal\n",
    "\n",
    "July 21, 2025"
   ]
  },
  {
   "cell_type": "markdown",
   "id": "38545f80",
   "metadata": {},
   "source": [
    "### Objective"
   ]
  },
  {
   "cell_type": "markdown",
   "id": "7ae8e919",
   "metadata": {},
   "source": [
    "<span style=\"color: blue; font-family: Arial; font-size: 16px; background-color: #EEEEEE\">\n",
    "The objective of the final capstone is to perform sentiment analysis on customer reviews. The capstone's objective is to understand the nuance of performing natural language processing (NLP) and the various approaches. \n",
    "This notebook outlines the exploration of the dataset and to prepare the data for analysis.\n",
    "</span>"
   ]
  },
  {
   "cell_type": "markdown",
   "id": "2b2e288c",
   "metadata": {},
   "source": [
    "### Import Libraries"
   ]
  },
  {
   "cell_type": "code",
   "execution_count": 85,
   "id": "cdb80524",
   "metadata": {},
   "outputs": [],
   "source": [
    "# Import numpy package\n",
    "import numpy as np\n",
    "# Import pandas package\n",
    "import pandas as pd\n",
    "# Import matplotlib package\n",
    "import matplotlib.pyplot as plt\n",
    "# Import the seaborn package\n",
    "import seaborn as sns\n",
    "\n",
    "# Import time\n",
    "import time\n",
    "# Parallel processing\n",
    "from multiprocessing import Pool, cpu_count\n",
    "# Import operating system library\n",
    "import os\n",
    "import string\n",
    "# Import tqdm to monitor for loop progress\n",
    "from tqdm import tqdm \n",
    "\n",
    "# Import NLTK and all submodules\n",
    "import nltk\n",
    "from nltk.corpus import stopwords\n",
    "from nltk.tokenize import word_tokenize\n",
    "from nltk.stem import WordNetLemmatizer\n",
    "from nltk.stem import PorterStemmer\n",
    "from nltk.stem import SnowballStemmer\n",
    "from nltk.sentiment.vader import SentimentIntensityAnalyzer\n",
    "\n",
    "#Term frequency vectorizer\n",
    "from sklearn.feature_extraction.text import TfidfVectorizer\n",
    "\n",
    "# Import Spacy\n",
    "import spacy\n",
    "# Import Counter\n",
    "from collections import Counter\n",
    "# Import contractions\n",
    "import contractions"
   ]
  },
  {
   "cell_type": "code",
   "execution_count": null,
   "id": "8588510c",
   "metadata": {},
   "outputs": [],
   "source": [
    "#!pip install -U numpy\n",
    "#!pip install numpy==2.2.1\n",
    "#import numpy as np\n",
    "#import pandas as pd\n",
    "#import matplotlib.pyplot as plt\n",
    "#np.__version__\n",
    "#pd.__version__\n",
    "#plt.__version__\n",
    "#!pip install --upgrade matplotlib\n",
    "#!pip install --user matplotlib\n",
    "#!pip uninstall matplotlib\n",
    "#!pip install matplotlib numpy"
   ]
  },
  {
   "cell_type": "code",
   "execution_count": null,
   "id": "7d2948de",
   "metadata": {},
   "outputs": [],
   "source": [
    "# Import natural language toolkit\n",
    "# The following installs were required to use the NLTK library\n",
    "#!pip install nltk\n",
    "# import nltk\n",
    "# download nltk corpus (first time only)\n",
    "#nltk.download('all')\n",
    "#help(nltk.stem)"
   ]
  },
  {
   "cell_type": "code",
   "execution_count": 35,
   "id": "da751c93",
   "metadata": {},
   "outputs": [
    {
     "name": "stdout",
     "output_type": "stream",
     "text": [
      "Defaulting to user installation because normal site-packages is not writeable\n",
      "Collecting contractions\n",
      "  Downloading contractions-0.1.73-py2.py3-none-any.whl (8.7 kB)\n",
      "Collecting textsearch>=0.0.21\n",
      "  Downloading textsearch-0.0.24-py2.py3-none-any.whl (7.6 kB)\n",
      "Collecting anyascii\n",
      "  Downloading anyascii-0.3.3-py3-none-any.whl (345 kB)\n",
      "     -------------------------------------- 345.1/345.1 kB 5.3 MB/s eta 0:00:00\n",
      "Collecting pyahocorasick\n",
      "  Downloading pyahocorasick-2.2.0-cp310-cp310-win_amd64.whl (34 kB)\n",
      "Installing collected packages: pyahocorasick, anyascii, textsearch, contractions\n",
      "Successfully installed anyascii-0.3.3 contractions-0.1.73 pyahocorasick-2.2.0 textsearch-0.0.24\n"
     ]
    }
   ],
   "source": [
    "# The following needed to be installed to use the spacy library\n",
    "#!pip install spacy\n",
    "#!pip install --upgrade --no-deps h5py \n",
    "# Reinstall h5py without reinstalling its dependencies\n",
    "#!python -m spacy download en_core_web_sm\n",
    "#!python -m spacy download en_core_web_sm\n",
    "#import spacy\n",
    "#!pip install contractions"
   ]
  },
  {
   "cell_type": "markdown",
   "id": "d60eaae5",
   "metadata": {},
   "source": [
    "<span style=\"color: red; font-family: Arial; font-size: 12px; background-color: #EEEEEE\">\n",
    "Both spacy and NLTK libraries required installation.<br />\n",
    "Experienced some issues with matplotlib and numpy incompatibility with NLTK and Spacy libaraies. \n",
    "</span>"
   ]
  },
  {
   "cell_type": "markdown",
   "id": "e8618b6a",
   "metadata": {},
   "source": [
    "### Read dataframe"
   ]
  },
  {
   "cell_type": "markdown",
   "id": "44eee657",
   "metadata": {},
   "source": [
    "About the dataframe:\\\n",
    "The Yelp reviews dataset consists of reviews from Yelp. It is extracted from the Yelp Dataset Challenge 2015 data.\\\n",
    "http://www.yelp.com/dataset_challenge \\\n",
    "The dataset is sourced from hugging face.\\\n",
    "https://huggingface.co/datasets/Yelp/yelp_review_full \\\n",
    "The dataset consists of two .csv files: training.csv with 650k records and test.csv. with 50k records.\n"
   ]
  },
  {
   "cell_type": "code",
   "execution_count": 3,
   "id": "387de327",
   "metadata": {},
   "outputs": [],
   "source": [
    "# Read Dataframe\n",
    "df = pd.read_csv('../data/raw/yelp_review_fine-grained_5_classes_csv/train.csv', header='infer')"
   ]
  },
  {
   "cell_type": "code",
   "execution_count": 4,
   "id": "19d3b2c5",
   "metadata": {},
   "outputs": [
    {
     "name": "stdout",
     "output_type": "stream",
     "text": [
      "The dataframe has 650000 rows and 2 columns.\n",
      "<class 'pandas.core.frame.DataFrame'>\n",
      "RangeIndex: 650000 entries, 0 to 649999\n",
      "Data columns (total 2 columns):\n",
      " #   Column       Non-Null Count   Dtype \n",
      "---  ------       --------------   ----- \n",
      " 0   class_index  650000 non-null  int64 \n",
      " 1   review_text  650000 non-null  object\n",
      "dtypes: int64(1), object(1)\n",
      "memory usage: 9.9+ MB\n",
      "None\n"
     ]
    }
   ],
   "source": [
    "# Inspect the dataframe\n",
    "df.head()\n",
    "print(f\"The dataframe has {df.shape[0]} rows and {df.shape[1]} columns.\")\n",
    "print(df.info())"
   ]
  },
  {
   "cell_type": "code",
   "execution_count": 5,
   "id": "e51b61d7",
   "metadata": {},
   "outputs": [
    {
     "data": {
      "image/png": "[encoded data removed]",
      "text/plain": [
       "<Figure size 500x300 with 1 Axes>"
      ]
     },
     "metadata": {},
     "output_type": "display_data"
    }
   ],
   "source": [
    "# Plot bar graph of the Review Stars\n",
    "ax = df['class_index'].value_counts().sort_index() \\\n",
    "    .plot(kind='bar',\n",
    "          title='Count of Reviews by Stars',\n",
    "          figsize=(5, 3))\n",
    "ax.set_xlabel('Review Stars')\n",
    "plt.show()"
   ]
  },
  {
   "cell_type": "markdown",
   "id": "7f6cc802",
   "metadata": {},
   "source": [
    "<span style=\"color: blue; font-family: Arial; font-size: 16px; background-color: #EEEEEE\">\n",
    "The data is equally distributed by number of review stars.<br />\n",
    "The dataset is free of any null values.<br /> \n",
    "There aren't any major data wrangling to perform other than text normalization. \n",
    "</span>"
   ]
  },
  {
   "cell_type": "markdown",
   "id": "aa76b433",
   "metadata": {},
   "source": [
    "### Dataset Review Statistics"
   ]
  },
  {
   "cell_type": "code",
   "execution_count": 6,
   "id": "526ade8d",
   "metadata": {},
   "outputs": [],
   "source": [
    "# Create a feature of the length of each review\n",
    "df['review_length']=df['review_text'].apply(len)"
   ]
  },
  {
   "cell_type": "code",
   "execution_count": 7,
   "id": "1763eaf4",
   "metadata": {},
   "outputs": [
    {
     "data": {
      "text/plain": [
       "count    650000.000000\n",
       "mean        732.325468\n",
       "std         663.721184\n",
       "min           1.000000\n",
       "25%         287.000000\n",
       "50%         539.000000\n",
       "75%         957.000000\n",
       "max        5637.000000\n",
       "Name: review_length, dtype: float64"
      ]
     },
     "execution_count": 7,
     "metadata": {},
     "output_type": "execute_result"
    }
   ],
   "source": [
    "# Average length of review is 732 characters\n",
    "df['review_length'].describe()"
   ]
  },
  {
   "cell_type": "code",
   "execution_count": 8,
   "id": "777c22a7",
   "metadata": {},
   "outputs": [],
   "source": [
    "def get_num_words(text_list):\n",
    "    num_words = [len(word_tokenize(text.lower())) for text in tqdm(text_list)]\n",
    "    return num_words"
   ]
  },
  {
   "cell_type": "code",
   "execution_count": 14,
   "id": "a66a111f",
   "metadata": {},
   "outputs": [
    {
     "name": "stderr",
     "output_type": "stream",
     "text": [
      "100%|█████████████████████████████████████████████████████████████████████████| 650000/650000 [17:19<00:00, 625.51it/s]"
     ]
    },
    {
     "name": "stdout",
     "output_type": "stream",
     "text": [
      "Time elapsed: 17.3 min\n"
     ]
    },
    {
     "name": "stderr",
     "output_type": "stream",
     "text": [
      "\n"
     ]
    }
   ],
   "source": [
    "# Create a feature of the length of each review\n",
    "'''\n",
    "text_list = df['review_text'].to_list()\n",
    "start = time.time()\n",
    "num_words = get_num_words(text_list)\n",
    "end = time.time()\n",
    "print(f\"Time elapsed: {round((end - start)/60,1)} min\")\n",
    "df['word_count'] = num_words\n",
    "#word_tokenize(text.lower())\n",
    "'''"
   ]
  },
  {
   "cell_type": "markdown",
   "id": "5c7cfeb6",
   "metadata": {},
   "source": [
    "<span style=\"color: blue; font-family: Arial; font-size: 16px; background-color: #EEEEEE\">\n",
    "The above function which tokenizes and extracts text length of the reviews takes 17.3 minutes to run across the entire dataset. \n",
    "</span>"
   ]
  },
  {
   "cell_type": "code",
   "execution_count": 293,
   "id": "feed5f05",
   "metadata": {},
   "outputs": [],
   "source": [
    "# Get random sample of reviews\n",
    "#rand_review = df.sample(n=1)['review_text'].values.item()"
   ]
  },
  {
   "cell_type": "code",
   "execution_count": 299,
   "id": "5c49e580",
   "metadata": {},
   "outputs": [
    {
     "name": "stderr",
     "output_type": "stream",
     "text": [
      "100%|███████████████████████████████████████████| 10000/10000 [00:15<00:00, 647.86it/s]\n"
     ]
    }
   ],
   "source": [
    "# Subset of entire dataset\n",
    "num_words = get_num_words(df.sample(n=1000)['review_text'])\n",
    "# There are on average 154 words per review\n",
    "#df['word_count'].describe()"
   ]
  },
  {
   "cell_type": "code",
   "execution_count": 300,
   "id": "4f27c2cb",
   "metadata": {},
   "outputs": [
    {
     "data": {
      "image/png": "[encoded data removed]",
      "text/plain": [
       "<Figure size 400x400 with 2 Axes>"
      ]
     },
     "metadata": {},
     "output_type": "display_data"
    }
   ],
   "source": [
    "# Plot the character length and word length of the reviews\n",
    "fig, axs = plt.subplots(1, 2, figsize =(6,6))\n",
    "#\n",
    "axs[0] = df['review_length']\\\n",
    "        .plot(kind='hist',bins=20,\\\n",
    "          title='Review Character Length Distribution',\\\n",
    "          ax=axs[0],figsize=(4, 4))\n",
    "#ax[0].set_xlabel('Review Stars')\n",
    "#\n",
    "#axs[1] = df['word_count']\\\n",
    "#        .plot(kind='hist',bins=20,\\\n",
    "#          title='Review Word Length Distribution',\\\n",
    "#          ax=axs[1],figsize=(4, 4))\n",
    "#ax[1].set_xlabel('Review Stars')\n",
    "plt.tight_layout()\n",
    "plt.show()"
   ]
  },
  {
   "cell_type": "markdown",
   "id": "02918f37",
   "metadata": {},
   "source": [
    "<span style=\"color: blue; font-family: Arial; font-size: 16px; background-color: #EEEEEE\">\n",
    "The above plots show that the character length and word counts are both having right skewed distribution. The average reviews fall has 154 words with higher word count being less frequenct.\n",
    "</span>"
   ]
  },
  {
   "cell_type": "code",
   "execution_count": 11,
   "id": "6802e7e2",
   "metadata": {},
   "outputs": [],
   "source": [
    "# Example Spacy \n",
    "#nlp = spacy.load(\"en_core_web_sm\")\n",
    "#text = preprocess_text(df.iloc[randnum.item(0)].review_text)\n",
    "#doc = nlp(text)\n",
    "#for token in doc:\n",
    "#    print(token, token.lemma_)\n"
   ]
  },
  {
   "cell_type": "markdown",
   "id": "cf676a8c",
   "metadata": {},
   "source": [
    "### Sample a subset of the dataframe "
   ]
  },
  {
   "cell_type": "code",
   "execution_count": 301,
   "id": "ce153afd",
   "metadata": {},
   "outputs": [
    {
     "name": "stdout",
     "output_type": "stream",
     "text": [
      "class_index\n",
      "1    654\n",
      "2    653\n",
      "3    652\n",
      "4    657\n",
      "5    634\n",
      "Name: count, dtype: int64\n"
     ]
    },
    {
     "data": {
      "text/plain": [
       "\"\\n# Plot the sampled review star distribution\\nax = df_sample['class_index']                .value_counts()                .sort_index()                .plot(kind='bar',                title='Count of Sampled DF by Review Stars',                figsize=(4, 3))\\nax.set_xlabel('Review Stars')\\nplt.show()\\n\""
      ]
     },
     "execution_count": 301,
     "metadata": {},
     "output_type": "execute_result"
    }
   ],
   "source": [
    "#Sample the dataframe with 0.5% of original records\n",
    "df_sample = df.sample(frac=0.005,random_state=9, axis=0)\n",
    "\n",
    "# Count the number of samples in each class\n",
    "print(df_sample['class_index']\\\n",
    "                    .value_counts()\\\n",
    "                    .sort_index())\n",
    "'''\n",
    "# Plot the sampled review star distribution\n",
    "ax = df_sample['class_index']\\\n",
    "                .value_counts()\\\n",
    "                .sort_index()\\\n",
    "                .plot(kind='bar',\\\n",
    "                title='Count of Sampled DF by Review Stars',\\\n",
    "                figsize=(4, 3))\n",
    "ax.set_xlabel('Review Stars')\n",
    "plt.show()\n",
    "'''"
   ]
  },
  {
   "cell_type": "code",
   "execution_count": 294,
   "id": "a298ca0a",
   "metadata": {},
   "outputs": [],
   "source": [
    "# --- Helper function for parallel processing ---\n",
    "def parallel_preprocess_series(my_function, text_to_process):\n",
    "    \"\"\"\n",
    "    Applies preprocess_text to a pandas Series in parallel.\n",
    "    \"\"\"\n",
    "    # Get the number of CPU cores available\n",
    "    num_cores = 4#cpu_count()\n",
    "    print(f\"Using {num_cores} CPU cores for parallel processing.\")\n",
    "\n",
    "    # Create a pool of worker processes\n",
    "    # The 'with' statement ensures the pool is properly closed\n",
    "    with Pool(num_cores) as pool:\n",
    "        # Map the preprocess_text function to each item in the series\n",
    "        # pool.map returns results in the same order as the input\n",
    "        processed_data = tqdm.tqdm(pool.map(my_function, text_to_process))\n",
    "    return processed_data\n"
   ]
  },
  {
   "cell_type": "markdown",
   "id": "9f7bd20d",
   "metadata": {},
   "source": [
    "## Text Normalization"
   ]
  },
  {
   "cell_type": "markdown",
   "id": "31e6fdf4",
   "metadata": {},
   "source": [
    "Lowercasing converts all text to lowercase. \n",
    "Stop words are common words (e.g., \"the,\" \"a,\" \"is,\" \"and\") that often carry little meaning on their own and don't contribute significantly to the sentiment of a sentence.\n",
    "Noise removal involves cleaning up irrelevant characters, symbols, or formatting that do not contribute to the meaning or sentiment.\n",
    "\n",
    "Tokenization is the process of breaking down a continuous text into smaller units called tokens. These tokens can be words, subwords, or even characters, depending on the specific tokenization strategy used.\n",
    "\n",
    "Normalization is the process that brings words into standard format.\n",
    "1) Stemming reduces words to their root form by chopping off suffixes (running -> run) however may lead to non-valid words (organization -> organizat).\n",
    "2) Lemmatization is the process of reducing inflected forms of a word to its lemma, or base form, as found in a dictionary.\n"
   ]
  },
  {
   "cell_type": "code",
   "execution_count": 18,
   "id": "ec7bce46",
   "metadata": {},
   "outputs": [],
   "source": [
    "# create function to strip data frame of stop words and punctuation and lemmatize tokens\n",
    "def preprocess_text(text):\n",
    "\n",
    "    # Tokenize the text\n",
    "    tokens = word_tokenize(text.lower())\n",
    "\n",
    "    # Remove stop words and punctuations in the tokens list\n",
    "    stp_wrds_puncts = list()\n",
    "    stp_wrds_puncts.append(string.punctuation)\n",
    "    stp_wrds_puncts.extend(stopwords.words('english'))\n",
    "    filtered_tokens = [token for token in tokens if token not in stp_wrds_puncts]\n",
    "\n",
    "    #stemmer = PorterStemmer('English')\n",
    "    #stemmer = SnowballStemmer('english')\n",
    "    #stemmed_tokens = [stemmer.stem(token) for token in filtered_tokens]\n",
    "    \n",
    "    # Lemmatize the tokens\n",
    "    lemmatizer = WordNetLemmatizer()\n",
    "    lemmatized_tokens = [lemmatizer.lemmatize(token) for token in filtered_tokens]\n",
    "\n",
    "    # Join the tokens back into a string\n",
    "    processed_text = ' '.join(lemmatized_tokens)\n",
    "\n",
    "    return processed_text"
   ]
  },
  {
   "cell_type": "code",
   "execution_count": null,
   "id": "72ba021d",
   "metadata": {},
   "outputs": [],
   "source": [
    "'''\n",
    "# Linear to process text\n",
    "text = df.iloc[randnum.item(0)].review_text\n",
    "# Tokenize the text\n",
    "tokens = word_tokenize(text.lower())\n",
    "\n",
    "# Create a list of stopwords and punctuation\n",
    "stp_wrds_puncts = list()\n",
    "stp_wrds_puncts.append(string.punctuation)\n",
    "stp_wrds_puncts.extend(stopwords.words('english'))\n",
    "\n",
    "# Remove stop words and punctuations in the tokens list\n",
    "filtered_tokens = [token for token in tokens if token not in stp_wrds_puncts]\n",
    "filtered_tokens = ' '.join(filtered_tokens)\n",
    "# Lemmatize the tokens using Spacy\n",
    "nlp = spacy.load(\"en_core_web_sm\")\n",
    "#text = preprocess_text(df.iloc[randnum.item(0)].review_text)\n",
    "lemmatized_tokens = [token.lemma_ for token in nlp(filtered_tokens)]\n",
    "\n",
    "# Join the tokens back into a string\n",
    "processed_text = ' '.join(lemmatized_tokens)\n",
    "'''"
   ]
  },
  {
   "cell_type": "markdown",
   "id": "5bf0ec82",
   "metadata": {},
   "source": [
    "### Run Lemmatization Script\n",
    "Test serial vs. parallel processing"
   ]
  },
  {
   "cell_type": "code",
   "execution_count": 279,
   "id": "f618f60b",
   "metadata": {},
   "outputs": [
    {
     "data": {
      "text/plain": [
       "'\\nstart = time.time()\\ndf_serial = df_sample.copy() # Work on a copy\\ndf_serial[\\'review_text_processed_serial\\'] = df_serial[\\'review_text\\'].apply(preprocess_text)\\nend = time.time()\\nprint(f\"Time elapsed: {round((end - start)/60,1)} min\")\\ndf_serial.head()\\n'"
      ]
     },
     "execution_count": 279,
     "metadata": {},
     "output_type": "execute_result"
    }
   ],
   "source": [
    "# Run preprocessing script serially\n",
    "'''\n",
    "start = time.time()\n",
    "df_serial = df_sample.copy() # Work on a copy\n",
    "df_serial['review_text_processed_serial'] = df_serial['review_text'].apply(preprocess_text)\n",
    "end = time.time()\n",
    "print(f\"Time elapsed: {round((end - start)/60,1)} min\")\n",
    "df_serial.head()\n",
    "'''"
   ]
  },
  {
   "cell_type": "code",
   "execution_count": 278,
   "id": "97fcc5b4",
   "metadata": {},
   "outputs": [
    {
     "data": {
      "text/plain": [
       "'\\nstart = time.time()\\n# Copy dataframe\\ndf_parallel = df_sample.copy() # Work on a copy\\n# Perform preprocessing with parallel processing\\ndf_parallel[\\'review_text_processed_parallel\\'] = parallel_preprocess_series(df_parallel[\\'review_text\\'])\\nend = time.time()\\nprint(f\"Time elapsed: {round((end - start)/60,1)} min\")\\ndf_parallel.head\\n'"
      ]
     },
     "execution_count": 278,
     "metadata": {},
     "output_type": "execute_result"
    }
   ],
   "source": [
    "# Run preprocessing script in parallel\n",
    "'''\n",
    "start = time.time()\n",
    "# Copy dataframe\n",
    "df_parallel = df_sample.copy() # Work on a copy\n",
    "# Perform preprocessing with parallel processing\n",
    "df_parallel['review_text_processed_parallel'] = parallel_preprocess_series(df_parallel['review_text'])\n",
    "end = time.time()\n",
    "print(f\"Time elapsed: {round((end - start)/60,1)} min\")\n",
    "df_parallel.head\n",
    "'''"
   ]
  },
  {
   "cell_type": "markdown",
   "id": "a5f28a5f",
   "metadata": {},
   "source": [
    "<span style=\"color: blue; font-family: Arial; font-size: 16px; background-color: #EEEEEE\">\n",
    "The standard text normalization processing function which tokenizes and lemmatizes the reviews takes over 40 minutes to run just 1% of the dataset. Even when, changing the lemmatization to less accurate stemming method, the function could not process the entire dataset of reviews. Parallel processing the code did not improve run time.<br />\n",
    "</span>\n",
    "<span style=\"color: red; font-family: Arial; font-size: 16px; background-color: #EEEEEE\">\n",
    "After several attempts, this procedure was abandoned."
   ]
  },
  {
   "cell_type": "markdown",
   "id": "a1fa53f4",
   "metadata": {},
   "source": [
    "### Normalize text reviews with Spacy\n",
    "Test serial vs. parallel processing"
   ]
  },
  {
   "cell_type": "code",
   "execution_count": 297,
   "id": "aaa56197",
   "metadata": {},
   "outputs": [],
   "source": [
    " nlp = spacy.load(\"en_core_web_sm\")"
   ]
  },
  {
   "cell_type": "code",
   "execution_count": 305,
   "id": "77f1cc0c",
   "metadata": {},
   "outputs": [],
   "source": [
    "# create function to strip data frame of stop words and punctuation and lemmatize tokens\n",
    "def preprocess_text_spacy(review_list):\n",
    "    processed_text = list()\n",
    "    for text in review_list:\n",
    "        # Tokenize the text\n",
    "        tokens = word_tokenize(text.lower())\n",
    "\n",
    "        # Create a list of stopwords and punctuation\n",
    "        stp_wrds_puncts = list()\n",
    "        stp_wrds_puncts.append(string.punctuation)\n",
    "        stp_wrds_puncts.extend(stopwords.words('english'))\n",
    "\n",
    "        # Remove stop words and punctuations in the tokens list\n",
    "        filtered_tokens = [token for token in tokens if token not in stp_wrds_puncts]\n",
    "        filtered_tokens = ' '.join(filtered_tokens)\n",
    "        # Lemmatize the tokens using Spacy\n",
    "       \n",
    "        #text = preprocess_text(df.iloc[randnum.item(0)].review_text)\n",
    "        lemmatized_tokens = [token.lemma_ for token in nlp(filtered_tokens)]\n",
    "\n",
    "        # Join the tokens back into a string\n",
    "        #processed_text = ' '.join(lemmatized_tokens)\n",
    "        processed_text.append(' '.join(lemmatized_tokens))\n",
    "\n",
    "    return processed_text"
   ]
  },
  {
   "cell_type": "code",
   "execution_count": null,
   "id": "59fb976b",
   "metadata": {},
   "outputs": [],
   "source": [
    "#textlist = df_serial.sample(n=4)['review_text'].values\n",
    "#processed_list = preprocess_text_spacy(textlist)\n",
    "'''\n",
    "#Process values with for loop instead of using apply function within Pandas\n",
    "start = time.time()\n",
    "df_spacy = df_sample.copy()\n",
    "review_list = df_spacy['review_text'].to_list()\n",
    "processed_text = list()\n",
    "for text in tqdm(review_list):\n",
    "    processed_text.append(preprocess_text_spacy(text))\n",
    "print(\"Loop completed\")\n",
    "end = time.time()\n",
    "print(f\"Time elapsed: {round((end - start)/60,1)} min\")\n",
    "df_spacy['review_text_processed_spacy'] = processed_text\n",
    "'''"
   ]
  },
  {
   "cell_type": "code",
   "execution_count": null,
   "id": "6bebd04b",
   "metadata": {},
   "outputs": [],
   "source": [
    "'''\n",
    "start = time.time()\n",
    "# Get the number of CPU cores available\n",
    "num_cores = 4 #cpu_count()\n",
    "#print(f\"Using {num_cores} CPU cores for parallel processing.\")\n",
    "# Create a pool of worker processes\n",
    "# The 'with' statement ensures the pool is properly closed\n",
    "with Pool(num_cores) as pool:\n",
    "    # Map the preprocess_text function to each item in the series\n",
    "    # pool.map returns results in the same order as the input\n",
    "    myseries = df_sample.sample(n=10)['review_text'].values\n",
    "    processed_data = pool.map(preprocess_text_spacy, myseries)\n",
    "        \n",
    "end = time.time()\n",
    "print(f\"Time elapsed: {round((end - start)/60,1)} min\")\n",
    "'''"
   ]
  },
  {
   "cell_type": "markdown",
   "id": "2f2ff49f",
   "metadata": {},
   "source": [
    "<span style=\"color: blue; font-family: Arial; font-size: 16px; background-color: #EEEEEE\">\n",
    "Running Spacy to perform normalization does not improve run times in comparison with NLTK. Running the code in parallel did not show run time improvement.\n",
    "</span>"
   ]
  },
  {
   "cell_type": "markdown",
   "id": "d5c22560",
   "metadata": {},
   "source": [
    "### BOW Frequency Count\n",
    "Bag of words\n"
   ]
  },
  {
   "cell_type": "code",
   "execution_count": 308,
   "id": "6de6631e",
   "metadata": {},
   "outputs": [],
   "source": [
    "sample_df = df.sample(n=1000)['review_text'].values.tolist()\n",
    "\n",
    "#tokens = word_tokenize(text.lower())\n",
    "#stp_wrds_puncts = list()\n",
    "#stp_wrds_puncts.append(string.punctuation)\n",
    "#stp_wrds_puncts.extend(stopwords.words('english'))\n",
    "#processed_text = preprocess_text_spacy(my_sample)"
   ]
  },
  {
   "cell_type": "code",
   "execution_count": 29,
   "id": "789ae1c0",
   "metadata": {},
   "outputs": [],
   "source": [
    "'''\n",
    "from sklearn.feature_extraction.text import CountVectorizer\n",
    "# Count vectorizer\n",
    "vectorizer = CountVectorizer()\n",
    "# Matrix \n",
    "X = vectorizer.fit_transform(procesed_text)\n",
    "# Word count\n",
    "word_counts = np.sum(X.toarray(), axis=0)\n",
    "# Words\n",
    "words = vectorizer.get_feature_names_out()\n",
    "#X.shape\n",
    "#word_counts.shape\n",
    "#my_tokens = [word_tokenize(text) for text in my_sample]\n",
    "'''"
   ]
  },
  {
   "cell_type": "code",
   "execution_count": 203,
   "id": "cd5493e4",
   "metadata": {},
   "outputs": [],
   "source": [
    "def tokenize_count(text_list):\n",
    "    # Create a count of tokenized text\n",
    "    # Remove contractions and stop words\n",
    "    token_list = list()\n",
    "    for text in tqdm(text_list):\n",
    "        # Tokenize the lowered text and fix contractions\n",
    "        tokens = word_tokenize(contractions.fix(text.lower()))\n",
    "        # Remove stop words and punctuations in the tokens list\n",
    "        filtered_tokens = [token for token in tokens if token not in stopwords.words('english')]\n",
    "        filtered_tokens = [token for token in filtered_tokens if token not in (string.punctuation or \"''\")]\n",
    "        # Remove all non alpha numeric values like elipses '...' and empty strings\n",
    "        filtered_tokens = [val for val in filtered_tokens if val.isalnum()]\n",
    "        # Add to token list to be counted\n",
    "        token_list.extend(filtered_tokens)\n",
    "        # Counted Tokens\n",
    "    return Counter(token_list)"
   ]
  },
  {
   "cell_type": "code",
   "execution_count": 309,
   "id": "52901273",
   "metadata": {},
   "outputs": [
    {
     "name": "stderr",
     "output_type": "stream",
     "text": [
      "100%|██████████████████████████████████████████████| 1000/1000 [00:45<00:00, 22.12it/s]"
     ]
    },
    {
     "name": "stdout",
     "output_type": "stream",
     "text": [
      "Time elapsed: 0.8 min\n"
     ]
    },
    {
     "name": "stderr",
     "output_type": "stream",
     "text": [
      "\n"
     ]
    }
   ],
   "source": [
    "start = time.time()\n",
    "\n",
    "# Count the words\n",
    "counted_tokens = tokenize_count(sample_df)\n",
    "# Get the most common words out of list of tuples\n",
    "words, count = zip(*counted_tokens.most_common(10))\n",
    "\n",
    "end = time.time()\n",
    "print(f\"Time elapsed: {round((end - start)/60,1)} min\")"
   ]
  },
  {
   "cell_type": "code",
   "execution_count": 318,
   "id": "004cd34c",
   "metadata": {},
   "outputs": [
    {
     "data": {
      "image/png": "[encoded data removed]",
      "text/plain": [
       "<Figure size 500x300 with 1 Axes>"
      ]
     },
     "metadata": {},
     "output_type": "display_data"
    }
   ],
   "source": [
    "# Plot most common words\n",
    "fig, ax = plt.subplots(figsize=(5, 3))\n",
    "ax.bar(x=words, height=count)\n",
    "ax.set_xlabel('Counted Words')\n",
    "ax.set_ylabel('Word Count')\n",
    "ax.set_title('BOW Top 10 Words from 1k Sampled Reviews')\n",
    "ax.tick_params(axis='x', labelrotation=45)\n",
    "plt.show()"
   ]
  },
  {
   "attachments": {},
   "cell_type": "markdown",
   "id": "281ce936",
   "metadata": {},
   "source": [
    "### TF-IDF\n",
    "\n",
    "Term Frequency-Inverse Document Frequency method.\\\n",
    "Analyze meaningful words from sample text series."
   ]
  },
  {
   "cell_type": "code",
   "execution_count": 311,
   "id": "bee290b4",
   "metadata": {},
   "outputs": [],
   "source": [
    "def process_tfdif(text_list):\n",
    "    # Create a count of tokenized text\n",
    "    # Remove contractions and stop words\n",
    "    nlp = spacy.load(\"en_core_web_sm\")\n",
    "    processed_text = list()\n",
    "    for text in tqdm(text_list):\n",
    "        # Tokenize the lowered text and fix contractions\n",
    "        tokens = word_tokenize(contractions.fix(text.lower()))\n",
    "        # Remove stop words and punctuations in the tokens list\n",
    "        filtered_tokens = [token for token in tokens if token not in stopwords.words('english')]\n",
    "        filtered_tokens = [token for token in filtered_tokens if token not in (string.punctuation or \"''\")]\n",
    "        # Remove all non alpha numeric values like elipses '...' and empty strings\n",
    "        filtered_tokens = [val for val in filtered_tokens if val.isalnum()]\n",
    "        filtered_text = ' '.join(filtered_tokens)\n",
    "        # Lemmatize tokens\n",
    "        lemmatized_tokens = [token.lemma_ for token in nlp(filtered_text)]\n",
    "        # Lemmatized text\n",
    "        lemmatized_text = ' '.join(lemmatized_tokens)\n",
    "\n",
    "        # Add to token list to be counted\n",
    "        processed_text.append(lemmatized_text)    \n",
    "\n",
    "    return processed_text"
   ]
  },
  {
   "cell_type": "code",
   "execution_count": 312,
   "id": "9ef77385",
   "metadata": {},
   "outputs": [
    {
     "name": "stderr",
     "output_type": "stream",
     "text": [
      "100%|██████████████████████████████████████████████| 1000/1000 [01:15<00:00, 13.33it/s]"
     ]
    },
    {
     "name": "stdout",
     "output_type": "stream",
     "text": [
      "Time elapsed: 1.3 min\n"
     ]
    },
    {
     "name": "stderr",
     "output_type": "stream",
     "text": [
      "\n"
     ]
    }
   ],
   "source": [
    "# Process text for TFIDF analysis\n",
    "start = time.time()\n",
    "text = process_tfdif(sample_df)\n",
    "end = time.time()\n",
    "print(f\"Time elapsed: {round((end - start)/60,1)} min\")"
   ]
  },
  {
   "cell_type": "code",
   "execution_count": 313,
   "id": "71b8029a",
   "metadata": {},
   "outputs": [
    {
     "name": "stdout",
     "output_type": "stream",
     "text": [
      "(1000, 7716)\n"
     ]
    }
   ],
   "source": [
    "# TFIDF vectorizer\n",
    "vectorizer = TfidfVectorizer()\n",
    "# Fit transform\n",
    "tfidf_matrix = vectorizer.fit_transform(text)\n",
    "# Convert sparse matrix to an array\n",
    "tfidf_dense = tfidf_matrix.toarray()\n",
    "print(tfidf_dense.shape)\n",
    "# Get out word list from fit\n",
    "tfidf_feature_names = vectorizer.get_feature_names_out()"
   ]
  },
  {
   "cell_type": "code",
   "execution_count": 314,
   "id": "5246279e",
   "metadata": {},
   "outputs": [
    {
     "data": {
      "text/html": [
       "<div>\n",
       "<style scoped>\n",
       "    .dataframe tbody tr th:only-of-type {\n",
       "        vertical-align: middle;\n",
       "    }\n",
       "\n",
       "    .dataframe tbody tr th {\n",
       "        vertical-align: top;\n",
       "    }\n",
       "\n",
       "    .dataframe thead th {\n",
       "        text-align: right;\n",
       "    }\n",
       "</style>\n",
       "<table border=\"1\" class=\"dataframe\">\n",
       "  <thead>\n",
       "    <tr style=\"text-align: right;\">\n",
       "      <th></th>\n",
       "      <th>10</th>\n",
       "      <th>100</th>\n",
       "      <th>1000</th>\n",
       "      <th>1000w</th>\n",
       "      <th>100x</th>\n",
       "      <th>101</th>\n",
       "      <th>1030am</th>\n",
       "      <th>104th</th>\n",
       "      <th>105</th>\n",
       "      <th>10p</th>\n",
       "      <th>...</th>\n",
       "      <th>zealous</th>\n",
       "      <th>zen</th>\n",
       "      <th>zero</th>\n",
       "      <th>zesty</th>\n",
       "      <th>zigzag</th>\n",
       "      <th>zip</th>\n",
       "      <th>zizzo</th>\n",
       "      <th>zomg</th>\n",
       "      <th>zone</th>\n",
       "      <th>zucchini</th>\n",
       "    </tr>\n",
       "  </thead>\n",
       "  <tbody>\n",
       "    <tr>\n",
       "      <th>0</th>\n",
       "      <td>0.0</td>\n",
       "      <td>0.0</td>\n",
       "      <td>0.0</td>\n",
       "      <td>0.0</td>\n",
       "      <td>0.0</td>\n",
       "      <td>0.0</td>\n",
       "      <td>0.0</td>\n",
       "      <td>0.0</td>\n",
       "      <td>0.0</td>\n",
       "      <td>0.0</td>\n",
       "      <td>...</td>\n",
       "      <td>0.0</td>\n",
       "      <td>0.0</td>\n",
       "      <td>0.0</td>\n",
       "      <td>0.0</td>\n",
       "      <td>0.0</td>\n",
       "      <td>0.0</td>\n",
       "      <td>0.0</td>\n",
       "      <td>0.0</td>\n",
       "      <td>0.0</td>\n",
       "      <td>0.0</td>\n",
       "    </tr>\n",
       "    <tr>\n",
       "      <th>1</th>\n",
       "      <td>0.0</td>\n",
       "      <td>0.0</td>\n",
       "      <td>0.0</td>\n",
       "      <td>0.0</td>\n",
       "      <td>0.0</td>\n",
       "      <td>0.0</td>\n",
       "      <td>0.0</td>\n",
       "      <td>0.0</td>\n",
       "      <td>0.0</td>\n",
       "      <td>0.0</td>\n",
       "      <td>...</td>\n",
       "      <td>0.0</td>\n",
       "      <td>0.0</td>\n",
       "      <td>0.0</td>\n",
       "      <td>0.0</td>\n",
       "      <td>0.0</td>\n",
       "      <td>0.0</td>\n",
       "      <td>0.0</td>\n",
       "      <td>0.0</td>\n",
       "      <td>0.0</td>\n",
       "      <td>0.0</td>\n",
       "    </tr>\n",
       "    <tr>\n",
       "      <th>2</th>\n",
       "      <td>0.0</td>\n",
       "      <td>0.0</td>\n",
       "      <td>0.0</td>\n",
       "      <td>0.0</td>\n",
       "      <td>0.0</td>\n",
       "      <td>0.0</td>\n",
       "      <td>0.0</td>\n",
       "      <td>0.0</td>\n",
       "      <td>0.0</td>\n",
       "      <td>0.0</td>\n",
       "      <td>...</td>\n",
       "      <td>0.0</td>\n",
       "      <td>0.0</td>\n",
       "      <td>0.0</td>\n",
       "      <td>0.0</td>\n",
       "      <td>0.0</td>\n",
       "      <td>0.0</td>\n",
       "      <td>0.0</td>\n",
       "      <td>0.0</td>\n",
       "      <td>0.0</td>\n",
       "      <td>0.0</td>\n",
       "    </tr>\n",
       "    <tr>\n",
       "      <th>3</th>\n",
       "      <td>0.0</td>\n",
       "      <td>0.0</td>\n",
       "      <td>0.0</td>\n",
       "      <td>0.0</td>\n",
       "      <td>0.0</td>\n",
       "      <td>0.0</td>\n",
       "      <td>0.0</td>\n",
       "      <td>0.0</td>\n",
       "      <td>0.0</td>\n",
       "      <td>0.0</td>\n",
       "      <td>...</td>\n",
       "      <td>0.0</td>\n",
       "      <td>0.0</td>\n",
       "      <td>0.0</td>\n",
       "      <td>0.0</td>\n",
       "      <td>0.0</td>\n",
       "      <td>0.0</td>\n",
       "      <td>0.0</td>\n",
       "      <td>0.0</td>\n",
       "      <td>0.0</td>\n",
       "      <td>0.0</td>\n",
       "    </tr>\n",
       "    <tr>\n",
       "      <th>4</th>\n",
       "      <td>0.0</td>\n",
       "      <td>0.0</td>\n",
       "      <td>0.0</td>\n",
       "      <td>0.0</td>\n",
       "      <td>0.0</td>\n",
       "      <td>0.0</td>\n",
       "      <td>0.0</td>\n",
       "      <td>0.0</td>\n",
       "      <td>0.0</td>\n",
       "      <td>0.0</td>\n",
       "      <td>...</td>\n",
       "      <td>0.0</td>\n",
       "      <td>0.0</td>\n",
       "      <td>0.0</td>\n",
       "      <td>0.0</td>\n",
       "      <td>0.0</td>\n",
       "      <td>0.0</td>\n",
       "      <td>0.0</td>\n",
       "      <td>0.0</td>\n",
       "      <td>0.0</td>\n",
       "      <td>0.0</td>\n",
       "    </tr>\n",
       "  </tbody>\n",
       "</table>\n",
       "<p>5 rows × 7716 columns</p>\n",
       "</div>"
      ],
      "text/plain": [
       "    10  100  1000  1000w  100x  101  1030am  104th  105  10p  ...  zealous  \\\n",
       "0  0.0  0.0   0.0    0.0   0.0  0.0     0.0    0.0  0.0  0.0  ...      0.0   \n",
       "1  0.0  0.0   0.0    0.0   0.0  0.0     0.0    0.0  0.0  0.0  ...      0.0   \n",
       "2  0.0  0.0   0.0    0.0   0.0  0.0     0.0    0.0  0.0  0.0  ...      0.0   \n",
       "3  0.0  0.0   0.0    0.0   0.0  0.0     0.0    0.0  0.0  0.0  ...      0.0   \n",
       "4  0.0  0.0   0.0    0.0   0.0  0.0     0.0    0.0  0.0  0.0  ...      0.0   \n",
       "\n",
       "   zen  zero  zesty  zigzag  zip  zizzo  zomg  zone  zucchini  \n",
       "0  0.0   0.0    0.0     0.0  0.0    0.0   0.0   0.0       0.0  \n",
       "1  0.0   0.0    0.0     0.0  0.0    0.0   0.0   0.0       0.0  \n",
       "2  0.0   0.0    0.0     0.0  0.0    0.0   0.0   0.0       0.0  \n",
       "3  0.0   0.0    0.0     0.0  0.0    0.0   0.0   0.0       0.0  \n",
       "4  0.0   0.0    0.0     0.0  0.0    0.0   0.0   0.0       0.0  \n",
       "\n",
       "[5 rows x 7716 columns]"
      ]
     },
     "execution_count": 314,
     "metadata": {},
     "output_type": "execute_result"
    }
   ],
   "source": [
    "# Convert to Pandas dataframe\n",
    "\n",
    "# The matrix of TF-IDF creates a matrix columns associated with the words and\n",
    "# rows designate their score\n",
    "df_tfidf = pd.DataFrame(\n",
    "                tfidf_dense,\n",
    "                columns = tfidf_feature_names\n",
    "                )\n",
    "df_tfidf.head(5)"
   ]
  },
  {
   "cell_type": "code",
   "execution_count": 315,
   "id": "62ca7397",
   "metadata": {},
   "outputs": [
    {
     "name": "stdout",
     "output_type": "stream",
     "text": [
      "sorted normalized scores: \n",
      " [2.22144244 2.07500109 1.97461162 ... 0.03144102 0.03144102 0.03144102]\n",
      "sorted indicies: \n",
      " [3037 2982 2727 ... 5894 4278   34]\n"
     ]
    }
   ],
   "source": [
    "# Extract the normalized tfidf score\n",
    "col_norm = list()\n",
    "for col in df_tfidf.columns:\n",
    "    col_norm.append(np.linalg.norm(df_tfidf[col]))\n",
    "\n",
    "# Get the descending sort on the normalized scores\n",
    "sorted_scores = np.sort(col_norm)[::-1]\n",
    "sorted_indices = np.argsort(col_norm)[::-1]\n",
    "print(\"sorted normalized scores: \\n\", sorted_scores)\n",
    "print(\"sorted indicies: \\n\",sorted_indices)\n",
    "\n",
    "# Significant words based on sorted values\n",
    "significant_words = df_tfidf.columns[sorted_indices]\n",
    "#significant_word_count = df_tfidf.sum(axis=1).\\\n",
    "#                    sort_values(ascending=False)\n",
    "#significant_words = df_tfidf.columns[significant_word_count.index]"
   ]
  },
  {
   "cell_type": "code",
   "execution_count": 317,
   "id": "532a7426",
   "metadata": {},
   "outputs": [
    {
     "data": {
      "image/png": "[encoded data removed]",
      "text/plain": [
       "<Figure size 500x300 with 1 Axes>"
      ]
     },
     "metadata": {},
     "output_type": "display_data"
    }
   ],
   "source": [
    "fig, ax = plt.subplots(figsize=(5, 3))\n",
    "ax.bar(x=significant_words[:10], height=sorted_scores[:10])\n",
    "ax.set_xlabel('Counted Words')\n",
    "ax.set_ylabel('Siginificance')\n",
    "ax.set_title('TFIDF Top 10 Words from 1k Sampled Reviews')\n",
    "ax.tick_params(axis='x', labelrotation=45)\n",
    "plt.show()"
   ]
  },
  {
   "cell_type": "markdown",
   "id": "8050859a",
   "metadata": {},
   "source": [
    "<span style=\"color: blue; font-family: Arial; font-size: 16px; background-color: #EEEEEE\">\n",
    "Performing bag of words (BOW) and term frequency-inverse term frequency (TF-IDF) on the same review sample set results in uniquely different list of words. The normalized score from the TF-IDF provides a list of more significant and meaningful descriptor of reviews. \n",
    "</span>"
   ]
  },
  {
   "cell_type": "markdown",
   "id": "e2e2b116",
   "metadata": {},
   "source": [
    "## Summary\n",
    "<span style=\"color: blue; font-family: Arial; font-size: 16px; background-color: #EEEEEE\">\n",
    "The dataset from hugging face used for sentiment analysis has 650k records with review text and rating (1-5). The first attempt to lemmatize the text using NLTK was extremely slow. The processing speed was nearly an hour. Downsampling the original dataframe to 0.05% of the records lead to over a half-hour run time to preprocess and normalize the text.<br />\n",
    "<span style=\"color: blue; font-family: Arial; font-size: 16px; background-color: #EEEEEE\">    \n",
    "Running the analysis in parallel did not improve run times.\n",
    "In an attempt to provide results, a sample of the dataset was used to perform BOW and TFIDF of the reviews. In the following part of the analysis, the full dataset analysis will be provided.<br />\n",
    "</span>\n",
    "<span style=\"color: red; font-family: Arial; font-size: 16px; background-color: #EEEEEE\">\n",
    "Note that several sections of this notebook have been block commented so the script can complete running within a few minutes instead of hours. "
   ]
  }
 ],
 "metadata": {
  "kernelspec": {
   "display_name": "Python 3 (ipykernel)",
   "language": "python",
   "name": "python3"
  },
  "language_info": {
   "codemirror_mode": {
    "name": "ipython",
    "version": 3
   },
   "file_extension": ".py",
   "mimetype": "text/x-python",
   "name": "python",
   "nbconvert_exporter": "python",
   "pygments_lexer": "ipython3",
   "version": "3.10.9"
  }
 },
 "nbformat": 4,
 "nbformat_minor": 5
}
