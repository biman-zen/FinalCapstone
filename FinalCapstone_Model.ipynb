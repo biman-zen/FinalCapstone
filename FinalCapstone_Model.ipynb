{
 "cells": [
  {
   "cell_type": "markdown",
   "id": "2f6f9b82",
   "metadata": {},
   "source": [
    "## Final Capstone - Sentiment Analysis of Yelp Business Reviews </br>\n",
    "\n",
    "Part II: Pre-process & Model\n",
    "\n",
    "Biman Mondal\n",
    "\n",
    "July 30, 2025"
   ]
  },
  {
   "cell_type": "markdown",
   "id": "d2e6e6c2",
   "metadata": {},
   "source": [
    "### Objective </br>\n",
    "\n",
    "<span style=\"color: blue; font-family: Arial; font-size: 16px; background-color: #EEEEEE\">\n",
    "The objective of the final capstone is to create several machine learning models which predict the sentiment of the customer reviews. Using some prebuilt sentiment analyzers like VADER and BERT, we will compare results ML classification models to pre-built models. The capstone's objective is to understand the nuance of performing natural language processing (NLP) and the various approaches to performing NLP tasks.</br>\n",
    "</br>\n",
    "This notebook finalizes the dataset and creates a model for comparison.\n",
    "</span>"
   ]
  },
  {
   "cell_type": "markdown",
   "id": "eb7420f1",
   "metadata": {},
   "source": [
    "### Import Libraries"
   ]
  },
  {
   "cell_type": "code",
   "execution_count": 8,
   "id": "c9f466d4",
   "metadata": {},
   "outputs": [],
   "source": [
    "# Import numpy package\n",
    "import numpy as np\n",
    "\n",
    "# Import pandas package\n",
    "import pandas as pd\n",
    "\n",
    "# Import matplotlib package\n",
    "import matplotlib.pyplot as plt\n",
    "# Import the seaborn package\n",
    "import seaborn as sns\n",
    "\n",
    "# Import time\n",
    "import time\n",
    "# Import tqdm to monitor for loop progress\n",
    "from tqdm import tqdm \n",
    "# Import operating system library\n",
    "import os\n",
    "import string\n",
    "# Serialize Data\n",
    "import pickle \n",
    "\n",
    "# Parallel processing\n",
    "from multiprocessing import Pool, cpu_count\n",
    "\n",
    "###############################################\n",
    "# NLP IMPORTS\n",
    "###############################################\n",
    "# Import NLTK and all submodules\n",
    "import nltk\n",
    "from nltk.corpus import stopwords\n",
    "from nltk.tokenize import word_tokenize\n",
    "from nltk.stem import WordNetLemmatizer\n",
    "from nltk.stem import PorterStemmer\n",
    "from nltk.stem import SnowballStemmer\n",
    "from nltk.sentiment.vader import SentimentIntensityAnalyzer\n",
    "\n",
    "# Import contractions\n",
    "import contractions\n",
    "# Import Spacy\n",
    "import spacy\n",
    "#\n",
    "# Import Counter\n",
    "from collections import Counter\n",
    "\n",
    "#Term frequency vectorizer\n",
    "from sklearn.feature_extraction.text import TfidfVectorizer\n",
    "# Transformers pipeline\n",
    "from transformers import pipeline\n",
    "\n",
    "###############################################\n",
    "# ML IMPORTS\n",
    "###############################################\n",
    "\n",
    "# Train Test Split\n",
    "from sklearn.model_selection import train_test_split\n",
    "\n",
    "# ML Models\n",
    "from sklearn.linear_model import LogisticRegression\n",
    "# Naive Bayes\n",
    "from sklearn.naive_bayes import MultinomialNB\n",
    "# Support Vector Machines\n",
    "from sklearn.svm import LinearSVC\n",
    "# Random Forest\n",
    "from sklearn.ensemble import RandomForestClassifier\n",
    "\n",
    "# Get accuracy score\n",
    "from sklearn.metrics import accuracy_score, f1_score, confusion_matrix\n",
    "from sklearn.metrics import classification_report"
   ]
  },
  {
   "cell_type": "code",
   "execution_count": 204,
   "id": "5d615fb1",
   "metadata": {},
   "outputs": [],
   "source": [
    "#!pip install -q transformers\n",
    "#!pip uninstall numpy\n",
    "#!pip install --user numpy==1.8\n",
    "#print(np.__version__)\n",
    "#nltk.download('vader_lexicon') # one time only"
   ]
  },
  {
   "cell_type": "markdown",
   "id": "977874e3",
   "metadata": {},
   "source": [
    "### Read dataframe\n",
    "<strong> About the dataframe:</strong></br>\n",
    "The Yelp reviews dataset consists of reviews from Yelp. It is extracted from the Yelp Dataset Challenge 2015 data.\\\n",
    "http://www.yelp.com/dataset_challenge </br>\n",
    "The dataset is sourced from hugging face.</br>\n",
    "https://huggingface.co/datasets/Yelp/yelp_review_full</br>\n",
    "The dataset consists of two .csv files: training.csv with 650k records and test.csv. with 50k records.</br>\n",
    "\n",
    "<strong> Assume:</strong> </br>\n",
    "<span style=\"color: blue; font-family: Arial; font-size: 16px; background-color: #EEEEEE\">\n",
    "As seen in the previous data wrangling / exploratory data analysis notebook, the star ratings are equally distributed in the dataframe. In order to model the dataset (1,2) stars are categorized as \"negative\" / -1, while (3) stars is \"neutral\" / 0 and (4,5) stars are categorized as \"positive\" / 1. \n",
    "</span>"
   ]
  },
  {
   "cell_type": "code",
   "execution_count": 2,
   "id": "5aaa7a8b",
   "metadata": {},
   "outputs": [
    {
     "data": {
      "text/html": [
       "<div>\n",
       "<style scoped>\n",
       "    .dataframe tbody tr th:only-of-type {\n",
       "        vertical-align: middle;\n",
       "    }\n",
       "\n",
       "    .dataframe tbody tr th {\n",
       "        vertical-align: top;\n",
       "    }\n",
       "\n",
       "    .dataframe thead th {\n",
       "        text-align: right;\n",
       "    }\n",
       "</style>\n",
       "<table border=\"1\" class=\"dataframe\">\n",
       "  <thead>\n",
       "    <tr style=\"text-align: right;\">\n",
       "      <th></th>\n",
       "      <th>class_index</th>\n",
       "      <th>review_text</th>\n",
       "    </tr>\n",
       "  </thead>\n",
       "  <tbody>\n",
       "    <tr>\n",
       "      <th>0</th>\n",
       "      <td>5</td>\n",
       "      <td>dr. goldberg offers everything i look for in a...</td>\n",
       "    </tr>\n",
       "    <tr>\n",
       "      <th>1</th>\n",
       "      <td>2</td>\n",
       "      <td>Unfortunately, the frustration of being Dr. Go...</td>\n",
       "    </tr>\n",
       "    <tr>\n",
       "      <th>2</th>\n",
       "      <td>4</td>\n",
       "      <td>Been going to Dr. Goldberg for over 10 years. ...</td>\n",
       "    </tr>\n",
       "    <tr>\n",
       "      <th>3</th>\n",
       "      <td>4</td>\n",
       "      <td>Got a letter in the mail last week that said D...</td>\n",
       "    </tr>\n",
       "    <tr>\n",
       "      <th>4</th>\n",
       "      <td>1</td>\n",
       "      <td>I don't know what Dr. Goldberg was like before...</td>\n",
       "    </tr>\n",
       "  </tbody>\n",
       "</table>\n",
       "</div>"
      ],
      "text/plain": [
       "   class_index                                        review_text\n",
       "0            5  dr. goldberg offers everything i look for in a...\n",
       "1            2  Unfortunately, the frustration of being Dr. Go...\n",
       "2            4  Been going to Dr. Goldberg for over 10 years. ...\n",
       "3            4  Got a letter in the mail last week that said D...\n",
       "4            1  I don't know what Dr. Goldberg was like before..."
      ]
     },
     "execution_count": 2,
     "metadata": {},
     "output_type": "execute_result"
    }
   ],
   "source": [
    "# Read Dataframe\n",
    "df = pd.read_csv('../data/raw/yelp_review_fine-grained_5_classes_csv/train.csv', header='infer')\n",
    "df.head()"
   ]
  },
  {
   "cell_type": "markdown",
   "id": "c908c261",
   "metadata": {},
   "source": [
    "## Text Normalization</br>\n",
    "\n",
    "<span style=\"color: blue; font-family: Arial; font-size: 16px; background-color: #EEEEEE\">\n",
    "Continue from previous notebook to process the review text.</br>\n",
    "Normalization is the process that brings words into standard format.\n",
    "    Stemming reduces words to their root form by chopping off suffixes (running -> run) however may lead to non-valid words (organization -> organizat).</br>\n",
    "    Lemmatization is the process of reducing inflected forms of a word to its lemma, or base form, as found in a dictionary.\n",
    "</span>\n",
    "</br>\n",
    "<span style=\"color: red; font-family: Arial; font-size: 16px; background-color: #EEEEEE\">\n",
    "Processing the entire dataframe of 650k records took over 20 hours using the following script.\n",
    "For expediency, the pickled file format of the processed dataframe were saved locally and read subsequently. \n",
    "</span>"
   ]
  },
  {
   "cell_type": "code",
   "execution_count": 5,
   "id": "d5d08fe9",
   "metadata": {},
   "outputs": [
    {
     "data": {
      "text/plain": [
       "'\\n# Pre-process text of dataframe\\n#sample_df = df.sample(frac=0.1)\\n#sample_df = df.sample(n=5000, random_state=9)\\n#processed_text = process_text(sample_df[\\'review_text\\'].values.tolist(), nlp)\\n\\n# Pre-process entire dataframe\\ndf[\"processed_text\"] = process_text(df[\\'review_text\\'].values.tolist(), nlp)\\n\\n# Save processed dataframe\\nfile_name = \\'dataframe_processed_complete.pkl\\'\\nwith open(file_name, \\'wb\\') as f:  # open a text file\\n    pickle.dump(df, f) # serialize the list\\nf.close()\\n'"
      ]
     },
     "execution_count": 5,
     "metadata": {},
     "output_type": "execute_result"
    }
   ],
   "source": [
    "def process_text(text_list, nlp):\n",
    "    start = time.time()\n",
    "    # Create a count of tokenized text\n",
    "    # Remove contractions and stop words\n",
    "    processed_text = list()\n",
    "    for text in tqdm(text_list):\n",
    "        # Tokenize the lowered text and fix contractions\n",
    "        tokens = word_tokenize(contractions.fix(text.lower()))\n",
    "        # Remove stop words and punctuations in the tokens list\n",
    "        filtered_tokens = [token for token in tokens if token not in stopwords.words('english')]\n",
    "        filtered_tokens = [token for token in filtered_tokens if token not in (string.punctuation or \"''\")]\n",
    "        # Remove all non alpha numeric values like elipses '...' and empty strings\n",
    "        #filtered_tokens = [val for val in filtered_tokens if val.isalpha()]\n",
    "        filtered_text = ' '.join(filtered_tokens)\n",
    "        # Lemmatize tokens\n",
    "        lemmatized_tokens = [token.lemma_ for token in nlp(filtered_text)]\n",
    "        # Lemmatized text\n",
    "        lemmatized_text = ' '.join(lemmatized_tokens)\n",
    "        # Add to token list to be counted\n",
    "        processed_text.append(lemmatized_text)   \n",
    "        \n",
    "    end = time.time()\n",
    "    print(f\"Time elapsed: {round((end - start)/60,1)} min\")\n",
    "    return processed_text\n",
    "\n",
    "# Model\n",
    "nlp = spacy.load(\"en_core_web_sm\", disable=[\"tagger\", \"parser\", \"ner\"])\n",
    "\n",
    "\"\"\"\n",
    "# Pre-process text of dataframe\n",
    "#sample_df = df.sample(frac=0.1)\n",
    "#sample_df = df.sample(n=5000, random_state=9)\n",
    "#processed_text = process_text(sample_df['review_text'].values.tolist(), nlp)\n",
    "\n",
    "# Pre-process entire dataframe\n",
    "df[\"processed_text\"] = process_text(df['review_text'].values.tolist(), nlp)\n",
    "\n",
    "# Save processed dataframe\n",
    "file_name = 'dataframe_processed_complete.pkl'\n",
    "with open(file_name, 'wb') as f:  # open a text file\n",
    "    pickle.dump(df, f) # serialize the list\n",
    "f.close()\n",
    "\"\"\""
   ]
  },
  {
   "cell_type": "markdown",
   "id": "bbffb07a",
   "metadata": {},
   "source": [
    "</br>\n",
    "<span style=\"color: red; font-family: Arial; font-size: 16px; background-color: #EEEEEE\">\n",
    "Processing the entire dataframe of 650k records took over 20 hours using the following script.</br>\n",
    "For expediency, the pickled file format of the processed dataframe were saved locally and read subsequently. \n",
    "</span>"
   ]
  },
  {
   "cell_type": "markdown",
   "id": "f19d107e",
   "metadata": {},
   "source": [
    "### Save / Read Pickled Data"
   ]
  },
  {
   "cell_type": "code",
   "execution_count": 3,
   "id": "2d7537df",
   "metadata": {},
   "outputs": [
    {
     "data": {
      "text/html": [
       "<div>\n",
       "<style scoped>\n",
       "    .dataframe tbody tr th:only-of-type {\n",
       "        vertical-align: middle;\n",
       "    }\n",
       "\n",
       "    .dataframe tbody tr th {\n",
       "        vertical-align: top;\n",
       "    }\n",
       "\n",
       "    .dataframe thead th {\n",
       "        text-align: right;\n",
       "    }\n",
       "</style>\n",
       "<table border=\"1\" class=\"dataframe\">\n",
       "  <thead>\n",
       "    <tr style=\"text-align: right;\">\n",
       "      <th></th>\n",
       "      <th>class_index</th>\n",
       "      <th>review_text</th>\n",
       "      <th>processed_text</th>\n",
       "      <th>sentiment</th>\n",
       "      <th>star_sentiment</th>\n",
       "      <th>sent_num</th>\n",
       "    </tr>\n",
       "  </thead>\n",
       "  <tbody>\n",
       "    <tr>\n",
       "      <th>0</th>\n",
       "      <td>5</td>\n",
       "      <td>dr. goldberg offers everything i look for in a...</td>\n",
       "      <td>goldberg offers everything look general practi...</td>\n",
       "      <td>positive</td>\n",
       "      <td>1</td>\n",
       "      <td>1</td>\n",
       "    </tr>\n",
       "    <tr>\n",
       "      <th>1</th>\n",
       "      <td>2</td>\n",
       "      <td>Unfortunately, the frustration of being Dr. Go...</td>\n",
       "      <td>unfortunately frustration goldberg patient rep...</td>\n",
       "      <td>negative</td>\n",
       "      <td>-1</td>\n",
       "      <td>-1</td>\n",
       "    </tr>\n",
       "    <tr>\n",
       "      <th>2</th>\n",
       "      <td>4</td>\n",
       "      <td>Been going to Dr. Goldberg for over 10 years. ...</td>\n",
       "      <td>going goldberg years think one patients starte...</td>\n",
       "      <td>positive</td>\n",
       "      <td>1</td>\n",
       "      <td>1</td>\n",
       "    </tr>\n",
       "    <tr>\n",
       "      <th>3</th>\n",
       "      <td>4</td>\n",
       "      <td>Got a letter in the mail last week that said D...</td>\n",
       "      <td>got letter mail last week said goldberg moving...</td>\n",
       "      <td>neutral</td>\n",
       "      <td>1</td>\n",
       "      <td>0</td>\n",
       "    </tr>\n",
       "    <tr>\n",
       "      <th>4</th>\n",
       "      <td>1</td>\n",
       "      <td>I don't know what Dr. Goldberg was like before...</td>\n",
       "      <td>know goldberg like moving arizona let tell sta...</td>\n",
       "      <td>neutral</td>\n",
       "      <td>-1</td>\n",
       "      <td>0</td>\n",
       "    </tr>\n",
       "  </tbody>\n",
       "</table>\n",
       "</div>"
      ],
      "text/plain": [
       "   class_index                                        review_text  \\\n",
       "0            5  dr. goldberg offers everything i look for in a...   \n",
       "1            2  Unfortunately, the frustration of being Dr. Go...   \n",
       "2            4  Been going to Dr. Goldberg for over 10 years. ...   \n",
       "3            4  Got a letter in the mail last week that said D...   \n",
       "4            1  I don't know what Dr. Goldberg was like before...   \n",
       "\n",
       "                                      processed_text sentiment  \\\n",
       "0  goldberg offers everything look general practi...  positive   \n",
       "1  unfortunately frustration goldberg patient rep...  negative   \n",
       "2  going goldberg years think one patients starte...  positive   \n",
       "3  got letter mail last week said goldberg moving...   neutral   \n",
       "4  know goldberg like moving arizona let tell sta...   neutral   \n",
       "\n",
       "   star_sentiment  sent_num  \n",
       "0               1         1  \n",
       "1              -1        -1  \n",
       "2               1         1  \n",
       "3               1         0  \n",
       "4              -1         0  "
      ]
     },
     "execution_count": 3,
     "metadata": {},
     "output_type": "execute_result"
    }
   ],
   "source": [
    "# Save data\n",
    "'''\n",
    "# Save data\n",
    "file_name = 'processed_text.pkl'\n",
    "\n",
    "with open(file_name, 'wb') as f:  # open a text file\n",
    "    pickle.dump(processed_text, f) # serialize the list\n",
    "f.close()\n",
    "'''\n",
    "# Read Data\n",
    "with open('dataframe_processed_NLTKsentiment.pkl', 'rb') as f:\n",
    "    df_processed = pickle.load(f) # deserialize using load()\n",
    "    #print(loaded_processed_text) # print student names\n",
    "\n",
    "# Convert Star value to numerical sentiment\n",
    "# [1,2] stars == 'negative' == -1\n",
    "# 3 stars == \"neutral\" == 0\n",
    "# 4 stars == \"positive\" == 1\n",
    "\n",
    "def mapfunc(x):\n",
    "    output = None\n",
    "    if x==1 or x==2:\n",
    "        output = -1\n",
    "    elif x==3:\n",
    "        output = 0\n",
    "    elif x==4 or x==5:\n",
    "        output = 1\n",
    "    return output\n",
    "# Apply map function to dataframe column\n",
    "df_processed['star_sentiment'] = df_processed['class_index']\\\n",
    "                                .map(lambda x: mapfunc(x))\n",
    "df_processed.head()"
   ]
  },
  {
   "cell_type": "code",
   "execution_count": 39,
   "id": "1dba7c42",
   "metadata": {},
   "outputs": [
    {
     "data": {
      "text/plain": [
       "class_index       260000\n",
       "review_text       260000\n",
       "processed_text    260000\n",
       "sentiment         260000\n",
       "star_sentiment    260000\n",
       "sent_num          260000\n",
       "dtype: int64"
      ]
     },
     "execution_count": 39,
     "metadata": {},
     "output_type": "execute_result"
    }
   ],
   "source": [
    "df_processed.loc[df_processed['star_sentiment']==1].count()\n",
    "# Down sample to avoid \n"
   ]
  },
  {
   "cell_type": "markdown",
   "id": "60ae43b0",
   "metadata": {},
   "source": [
    "## Perform Multi-label Classification"
   ]
  },
  {
   "cell_type": "markdown",
   "id": "33e37a20",
   "metadata": {},
   "source": [
    "### Create TFDIF Features and Split Dataset"
   ]
  },
  {
   "cell_type": "code",
   "execution_count": 4,
   "id": "49397262",
   "metadata": {},
   "outputs": [
    {
     "name": "stdout",
     "output_type": "stream",
     "text": [
      "TFIDF sparse matrix size:\n",
      " (650000, 10000)\n",
      "Time elapsed: 0.8 min\n"
     ]
    }
   ],
   "source": [
    "start = time.time()\n",
    "# TFIDF vectorizer\n",
    "vectorizer = TfidfVectorizer(max_features=10000)\n",
    "\n",
    "# Fit transform\n",
    "tfidf_matrix = vectorizer.fit_transform(df_processed.processed_text)\n",
    "print(\"TFIDF sparse matrix size:\\n\", tfidf_matrix.shape)\n",
    "\n",
    "# Convert sparse matrix to an array\n",
    "#tfidf_dense = tfidf_matrix.toarray()\n",
    "#print(tfidf_dense.shape)\n",
    "# Get out word list from fit\n",
    "#tfidf_feature_names = vectorizer.get_feature_names_out()\n",
    "\n",
    "# Convert processed data to Pandas dataframe\n",
    "# The matrix of TF-IDF creates a matrix columns associated with the words and\n",
    "# rows designate their score\n",
    "#df_tfidf = pd.DataFrame(\n",
    "#                tfidf_dense,\n",
    "#                columns = tfidf_feature_names\n",
    "#                )\n",
    "\n",
    "# Set X as the TF-IDF transformed matrix\n",
    "X = tfidf_matrix\n",
    "# Set Y as the number of stars\n",
    "y = df_processed.star_sentiment\n",
    "# Split data 70% train / 30% test\n",
    "X_train, X_test, y_train, y_test = train_test_split(X, \n",
    "                                                    y, \n",
    "                                                    test_size= 0.3, random_state= 9)\n",
    "end = time.time()\n",
    "print(f\"Time elapsed: {round((end - start)/60,1)} min\")"
   ]
  },
  {
   "cell_type": "markdown",
   "id": "4aa8b5bd",
   "metadata": {},
   "source": [
    "<span style=\"color: blue; font-family: Arial; font-size: 16px; background-color: #EEEEEE\">\n",
    "Converting TFIDF sparse matrix to array results in memory error until max-features per document is lowered below 10k. \n",
    "</span>"
   ]
  },
  {
   "cell_type": "markdown",
   "id": "2e237f64",
   "metadata": {},
   "source": [
    "### Log Regression"
   ]
  },
  {
   "cell_type": "code",
   "execution_count": 41,
   "id": "4511c8f8",
   "metadata": {},
   "outputs": [
    {
     "name": "stdout",
     "output_type": "stream",
     "text": [
      "LogisticRegression(C=0.01,\n",
      "                   class_weight={-1: 0.8333333333333334, 0: 1.6666666666666667,\n",
      "                                 1: 0.8333333333333334},\n",
      "                   max_iter=10000)\n",
      "              precision    recall  f1-score   support\n",
      "\n",
      "          -1       0.83      0.77      0.80     77944\n",
      "           0       0.45      0.60      0.51     39097\n",
      "           1       0.83      0.75      0.79     77959\n",
      "\n",
      "    accuracy                           0.73    195000\n",
      "   macro avg       0.70      0.71      0.70    195000\n",
      "weighted avg       0.75      0.73      0.74    195000\n",
      "\n",
      "[[59922 14344  3678]\n",
      " [ 7767 23395  7935]\n",
      " [ 4900 14559 58500]]\n"
     ]
    },
    {
     "data": {
      "image/png": "[encoded data removed]",
      "text/plain": [
       "<Figure size 400x400 with 2 Axes>"
      ]
     },
     "metadata": {},
     "output_type": "display_data"
    },
    {
     "name": "stdout",
     "output_type": "stream",
     "text": [
      "Time elapsed: 0.2 min\n"
     ]
    }
   ],
   "source": [
    "start = time.time()\n",
    "# Set regularization rate\n",
    "reg = 100\n",
    "# train a logistic regression model on the training set\n",
    "log_model = LogisticRegression(C=1/reg, class_weight = {-1:0.833, 0:1.667, 1:0.833},\n",
    "                                        solver='lbfgs',  \n",
    "                                        max_iter=10000)\\\n",
    "                                        .fit(X_train, y_train)\n",
    "print(log_model)\n",
    "\n",
    "# Determine prediction\n",
    "log_pred = log_model.predict(X_test)\n",
    "\n",
    "# Print Classification Report\n",
    "print(classification_report(y_test, log_pred))\n",
    "\n",
    "# Confusion matrix\n",
    "mcm_log = confusion_matrix(y_test, log_pred)\n",
    "print(mcm_log)\n",
    "\n",
    "# Plot confusion Matrix\n",
    "plt.figure(figsize = (4,4))\n",
    "plt.imshow(mcm_log, interpolation=\"nearest\", cmap=plt.cm.Blues)\n",
    "plt.colorbar()\n",
    "tick_marks = np.arange(3)\n",
    "#plt.xticks(tick_marks, [-1,0,1])\n",
    "#plt.yticks(tick_marks, [-1,0,1])\n",
    "plt.xticks(tick_marks, [\"Neg\",\"Neu\",\"Pos\"])\n",
    "plt.yticks(tick_marks, [\"Neg\",\"Neu\",\"Pos\"])\n",
    "plt.xlabel(\"Actual\")\n",
    "plt.ylabel(\"Predicted\")\n",
    "plt.title('Logistic Regression Results')\n",
    "plt.show()\n",
    "#\n",
    "end = time.time()\n",
    "print(f\"Time elapsed: {round((end - start)/60,1)} min\")"
   ]
  },
  {
   "cell_type": "markdown",
   "id": "47546a72",
   "metadata": {},
   "source": [
    "## Naive Bayes Model"
   ]
  },
  {
   "cell_type": "code",
   "execution_count": 46,
   "id": "2359914d",
   "metadata": {},
   "outputs": [
    {
     "name": "stdout",
     "output_type": "stream",
     "text": [
      "MultinomialNB()\n",
      "              precision    recall  f1-score   support\n",
      "\n",
      "          -1       0.75      0.84      0.79     77944\n",
      "           0       0.51      0.16      0.25     39097\n",
      "           1       0.71      0.87      0.78     77959\n",
      "\n",
      "    accuracy                           0.72    195000\n",
      "   macro avg       0.66      0.62      0.61    195000\n",
      "weighted avg       0.69      0.72      0.68    195000\n",
      "\n",
      "[[65385  4477  8082]\n",
      " [13435  6314 19348]\n",
      " [ 8550  1583 67826]]\n"
     ]
    },
    {
     "data": {
      "image/png": "[encoded data removed]",
      "text/plain": [
       "<Figure size 400x400 with 2 Axes>"
      ]
     },
     "metadata": {},
     "output_type": "display_data"
    },
    {
     "name": "stdout",
     "output_type": "stream",
     "text": [
      "Time elapsed: 0.0 min\n"
     ]
    }
   ],
   "source": [
    "start = time.time()\n",
    "\n",
    "nb_model = MultinomialNB()\\\n",
    "                        .fit(X_train, y_train)\n",
    "print(nb_model)\n",
    "nb_y_pred = nb_model.predict(X_test)\n",
    "\n",
    "# Print Classification Report\n",
    "print(classification_report(y_test, nb_y_pred))\n",
    "\n",
    "# Confusion matrix\n",
    "mcm_nb = confusion_matrix(y_test, nb_y_pred)\n",
    "print(mcm_nb)\n",
    "\n",
    "# Plot confusion Matrix\n",
    "plt.figure(figsize = (4,4))\n",
    "plt.imshow(mcm_nb, interpolation=\"nearest\", cmap=plt.cm.Blues)\n",
    "plt.colorbar()\n",
    "tick_marks = np.arange(3)\n",
    "#plt.xticks(tick_marks, [-1,0,1])\n",
    "#plt.yticks(tick_marks, [-1,0,1])\n",
    "plt.xticks(tick_marks, [\"Neg\",\"Neu\",\"Pos\"])\n",
    "plt.yticks(tick_marks, [\"Neg\",\"Neu\",\"Pos\"])\n",
    "plt.xlabel(\"Actual\")\n",
    "plt.ylabel(\"Predicted\")\n",
    "plt.title('Naive Bayes Results')\n",
    "plt.show()\n",
    "#\n",
    "end = time.time()\n",
    "print(f\"Time elapsed: {round((end - start)/60,1)} min\")"
   ]
  },
  {
   "cell_type": "markdown",
   "id": "b674dadc",
   "metadata": {},
   "source": [
    "## Support Vector Machine Model"
   ]
  },
  {
   "cell_type": "code",
   "execution_count": 47,
   "id": "bbada2fc",
   "metadata": {},
   "outputs": [
    {
     "name": "stdout",
     "output_type": "stream",
     "text": [
      "LinearSVC(class_weight={-1: 0.833, 0: 1.667, 1: 0.833})\n",
      "              precision    recall  f1-score   support\n",
      "\n",
      "          -1       0.82      0.84      0.83     77944\n",
      "           0       0.51      0.46      0.48     39097\n",
      "           1       0.82      0.84      0.83     77959\n",
      "\n",
      "    accuracy                           0.76    195000\n",
      "   macro avg       0.72      0.71      0.71    195000\n",
      "weighted avg       0.76      0.76      0.76    195000\n",
      "\n",
      "[[65585  8571  3788]\n",
      " [10232 17925 10940]\n",
      " [ 3854  8566 65539]]\n"
     ]
    },
    {
     "data": {
      "image/png": "[encoded data removed]",
      "text/plain": [
       "<Figure size 400x400 with 2 Axes>"
      ]
     },
     "metadata": {},
     "output_type": "display_data"
    },
    {
     "name": "stdout",
     "output_type": "stream",
     "text": [
      "Time elapsed: 0.9 min\n"
     ]
    }
   ],
   "source": [
    "start = time.time()\n",
    "\n",
    "svc_model = LinearSVC(class_weight = {-1:0.833, 0:1.667, 1:0.833})\\\n",
    "                                    .fit(X_train, y_train)\n",
    "print(svc_model)\n",
    "svc_y_pred = svc_model.predict(X_test)\n",
    "# Print Classification Report\n",
    "print(classification_report(y_test, svc_y_pred))\n",
    "\n",
    "# Confusion matrix\n",
    "mcm_svc = confusion_matrix(y_test, svc_y_pred)\n",
    "print(mcm_svc)\n",
    "\n",
    "# Plot confusion Matrix\n",
    "plt.figure(figsize = (4,4))\n",
    "plt.imshow(mcm_svc, interpolation=\"nearest\", cmap=plt.cm.Blues)\n",
    "plt.colorbar()\n",
    "tick_marks = np.arange(3)\n",
    "#plt.xticks(tick_marks, [-1,0,1])\n",
    "#plt.yticks(tick_marks, [-1,0,1])\n",
    "plt.xticks(tick_marks, [\"Neg\",\"Neu\",\"Pos\"])\n",
    "plt.yticks(tick_marks, [\"Neg\",\"Neu\",\"Pos\"])\n",
    "plt.xlabel(\"Actual\")\n",
    "plt.ylabel(\"Predicted\")\n",
    "plt.title('SVC Results')\n",
    "plt.show()\n",
    "#\n",
    "end = time.time()\n",
    "print(f\"Time elapsed: {round((end - start)/60,1)} min\")"
   ]
  },
  {
   "cell_type": "markdown",
   "id": "67d8ad01",
   "metadata": {},
   "source": [
    "### Random Forest Classfier"
   ]
  },
  {
   "cell_type": "code",
   "execution_count": 51,
   "id": "8e988230",
   "metadata": {},
   "outputs": [
    {
     "name": "stdout",
     "output_type": "stream",
     "text": [
      "RandomForestClassifier(class_weight={-1: 0.833, 0: 1.667, 1: 0.833},\n",
      "                       max_depth=3, random_state=9)\n",
      "              precision    recall  f1-score   support\n",
      "\n",
      "          -1       0.72      0.61      0.66     77944\n",
      "           0       0.38      0.35      0.36     39097\n",
      "           1       0.63      0.76      0.69     77959\n",
      "\n",
      "    accuracy                           0.62    195000\n",
      "   macro avg       0.58      0.57      0.57    195000\n",
      "weighted avg       0.62      0.62      0.61    195000\n",
      "\n",
      "[[47434 12085 18425]\n",
      " [ 9184 13547 16366]\n",
      " [ 8929 10069 58961]]\n"
     ]
    },
    {
     "data": {
      "image/png": "[encoded data removed]",
      "text/plain": [
       "<Figure size 400x400 with 2 Axes>"
      ]
     },
     "metadata": {},
     "output_type": "display_data"
    },
    {
     "name": "stdout",
     "output_type": "stream",
     "text": [
      "Time elapsed: 0.5 min\n"
     ]
    }
   ],
   "source": [
    "start = time.time()\n",
    "# Random Forest Classifier\n",
    "rf_model = RandomForestClassifier(class_weight = {-1:0.833, 0:1.667, 1:0.833},\n",
    "                                  n_estimators=100,max_depth=3,\n",
    "                                  random_state=9)\\\n",
    "                                 .fit(X_train, y_train)\n",
    "print(rf_model)\n",
    "\n",
    "# Prediction\n",
    "rf_y_pred = rf_model.predict(X_test)\n",
    "# Print Classification Report\n",
    "print(classification_report(y_test, rf_y_pred))\n",
    "# Calculate confusion matrix\n",
    "mcm_rf = confusion_matrix(y_test, rf_y_pred)\n",
    "print(mcm_rf)\n",
    "\n",
    "# Plot confusion Matrix\n",
    "plt.figure(figsize = (4,4))\n",
    "plt.imshow(mcm_rf, interpolation=\"nearest\", cmap=plt.cm.Blues)\n",
    "plt.colorbar()\n",
    "tick_marks = np.arange(3)\n",
    "#plt.xticks(tick_marks, [-1,0,1])\n",
    "#plt.yticks(tick_marks, [-1,0,1])\n",
    "plt.xticks(tick_marks, [\"Neg\",\"Neu\",\"Pos\"])\n",
    "plt.yticks(tick_marks, [\"Neg\",\"Neu\",\"Pos\"])\n",
    "plt.xlabel(\"Actual\")\n",
    "plt.ylabel(\"Predicted\")\n",
    "plt.title('RF Results')\n",
    "plt.show()\n",
    "#\n",
    "end = time.time()\n",
    "print(f\"Time elapsed: {round((end - start)/60,1)} min\")"
   ]
  },
  {
   "cell_type": "markdown",
   "id": "f2d5f60c",
   "metadata": {},
   "source": [
    "### Sentiment Analysis using NLTK VADER</br>"
   ]
  },
  {
   "cell_type": "code",
   "execution_count": 60,
   "id": "9e722af2",
   "metadata": {},
   "outputs": [],
   "source": [
    "\"\"\"\n",
    "# Load processed dataframe\n",
    "with open('dataframe_processed_full.pkl', 'rb') as f:\n",
    "    df_processed = pickle.load(f) # deserialize using load()\n",
    "\n",
    "#print(loaded_processed_text) # print student names\n",
    "\"\"\""
   ]
  },
  {
   "cell_type": "code",
   "execution_count": 34,
   "id": "ecd12450",
   "metadata": {},
   "outputs": [],
   "source": [
    "def get_sentiment(text, analyzer):\n",
    "    # Get the sentiment polarity from text\n",
    "    scores = analyzer.polarity_scores(text)\n",
    "    \n",
    "    if scores['compound'] > 0.4:\n",
    "        sentiment = 'positive'\n",
    "    elif scores['compound'] <-0.4:\n",
    "        sentiment = 'negative'\n",
    "    else:\n",
    "        sentiment = 'neutral'\n",
    "    #sub_dict = {k: v for k, v in scores.items() if k in ['neg', 'neu', 'pos']}\n",
    "    #sentiment = max(sub_dict, key=sub_dict.get)\n",
    "    return scores, sentiment"
   ]
  },
  {
   "cell_type": "code",
   "execution_count": 35,
   "id": "873744c8",
   "metadata": {},
   "outputs": [
    {
     "name": "stderr",
     "output_type": "stream",
     "text": [
      "100%|███████████████████████████████| 650000/650000 [13:52<00:00, 781.06it/s]\n"
     ]
    },
    {
     "name": "stdout",
     "output_type": "stream",
     "text": [
      "Time elapsed: 13.9 min\n"
     ]
    }
   ],
   "source": [
    "start = time.time()\n",
    "# Determine the sentiment of entire training set\n",
    "analyzer = SentimentIntensityAnalyzer()\n",
    "sent_results = list()\n",
    "# Loop through dataframe processed text to get sentiment\n",
    "for text in tqdm(df_processed.processed_text.to_list()):\n",
    "    sent_results.append(get_sentiment(text,analyzer))\n",
    "\n",
    "# Combine results with df\n",
    "df_processed['sentiment'] = [val[1] for val in sent_results]\n",
    "\n",
    "# Convert sentiment to numerical value\n",
    "def mapfunc(x):\n",
    "    output = None\n",
    "    if x==\"negative\":\n",
    "        output = -1\n",
    "    elif x==\"neutral\":\n",
    "        output = 0\n",
    "    elif x==\"positive\":\n",
    "        output = 1\n",
    "    return output\n",
    "\n",
    "# Apply map function to dataframe column\n",
    "df_processed['sent_num'] = df_processed['sentiment']\\\n",
    "                                .map(lambda x: mapfunc(x))\n",
    "# Save dataframe with results as pickled data\n",
    "file_name = 'dataframe_processed_NLTKsentiment.pkl'\n",
    "with open(file_name, 'wb') as f:  # open a text file\n",
    "    pickle.dump(df_processed, f) # serialize the list\n",
    "f.close()\n",
    "\n",
    "df_processed.head()\n",
    "\n",
    "end = time.time()\n",
    "print(f\"Time elapsed: {round((end - start)/60,1)} min\")"
   ]
  },
  {
   "cell_type": "code",
   "execution_count": 20,
   "id": "011c5742",
   "metadata": {},
   "outputs": [
    {
     "data": {
      "image/png": "[encoded data removed]",
      "text/plain": [
       "<Figure size 590.875x400 with 1 Axes>"
      ]
     },
     "metadata": {},
     "output_type": "display_data"
    }
   ],
   "source": [
    "grouped_nltk_sentiment = df_processed.groupby('class_index')['sentiment'].value_counts()\n",
    "# Plot categorical of sentiment with \n",
    "g = sns.catplot(x='class_index',data=df_processed,\n",
    "                kind=\"count\", hue='sentiment',\n",
    "                height=4,aspect=1.2)\n",
    "#handles, labels = g.get_legend_handles_labels()\n",
    "#g.legend(labels=['Positive', 'Neutral', 'Negative'])\n",
    "g.set_axis_labels(\"Number of Stars\")\n",
    "g.fig.suptitle(\"Reviews by Stars wrt NLTK Sentiment\", y=1.02)\n",
    "plt.show()"
   ]
  },
  {
   "cell_type": "code",
   "execution_count": 18,
   "id": "e38d4557",
   "metadata": {},
   "outputs": [
    {
     "name": "stderr",
     "output_type": "stream",
     "text": [
      "100%|█████████████████████████████████| 100/100 [00:00<00:00, 496.01it/s]"
     ]
    },
    {
     "name": "stdout",
     "output_type": "stream",
     "text": [
      "Time elapsed: 0.0 min\n"
     ]
    },
    {
     "name": "stderr",
     "output_type": "stream",
     "text": [
      "\n"
     ]
    }
   ],
   "source": [
    "'''\n",
    "# Process sample df\n",
    "analyzer = SentimentIntensityAnalyzer()\n",
    "sent_results = list()\n",
    "start = time.time()\n",
    "for text in tqdm(sample_df.review_text.to_list()):\n",
    "    sent_results.append(get_sentiment(text,analyzer))\n",
    "end = time.time()\n",
    "print(f\"Time elapsed: {round((end - start)/60,1)} min\")\n",
    "#\n",
    "sample_df['sentiment_raw'] = [val[1] for val in sent_results]\n",
    "'''"
   ]
  },
  {
   "cell_type": "code",
   "execution_count": 33,
   "id": "420cf472",
   "metadata": {},
   "outputs": [
    {
     "data": {
      "text/plain": [
       "\"\\n# Save dataframe with results as pickled data\\nfile_name = 'dataframe_processed_NLTK.pkl'\\n#\\nwith open(file_name, 'wb') as f:  # open a text file\\n    pickle.dump(df_processed, f) # serialize the list\\nf.close()\\n\\n\\n# Read back dataframe from pickled\\nfile_name = 'complete_dataframe_processed_NLTKsentiment.pkl'\\n\\nwith open(file_name, 'rb') as f:\\n    pickle_df = pickle.load(f) # deserialize using load()\\n\""
      ]
     },
     "execution_count": 33,
     "metadata": {},
     "output_type": "execute_result"
    }
   ],
   "source": [
    "'''\n",
    "# Save dataframe with results as pickled data\n",
    "file_name = 'dataframe_processed_NLTK.pkl'\n",
    "#\n",
    "with open(file_name, 'wb') as f:  # open a text file\n",
    "    pickle.dump(df_processed, f) # serialize the list\n",
    "f.close()\n",
    "\n",
    "\n",
    "# Read back dataframe from pickled\n",
    "file_name = 'complete_dataframe_processed_NLTKsentiment.pkl'\n",
    "\n",
    "with open(file_name, 'rb') as f:\n",
    "    pickle_df = pickle.load(f) # deserialize using load()\n",
    "'''"
   ]
  },
  {
   "cell_type": "code",
   "execution_count": 73,
   "id": "f0ad4d10",
   "metadata": {},
   "outputs": [
    {
     "name": "stdout",
     "output_type": "stream",
     "text": [
      "              precision    recall  f1-score   support\n",
      "\n",
      "          -1       0.90      0.23      0.36    260000\n",
      "           0       0.17      0.10      0.12    130000\n",
      "           1       0.49      0.95      0.64    260000\n",
      "\n",
      "    accuracy                           0.49    650000\n",
      "   macro avg       0.52      0.42      0.38    650000\n",
      "weighted avg       0.59      0.49      0.43    650000\n",
      "\n",
      "Confusion matrix: \n",
      " [[ 58827  53648 147525]\n",
      " [  4284  12802 112914]\n",
      " [  2527  10435 247038]]\n"
     ]
    },
    {
     "data": {
      "image/png": "[encoded data removed]",
      "text/plain": [
       "<Figure size 400x400 with 2 Axes>"
      ]
     },
     "metadata": {},
     "output_type": "display_data"
    }
   ],
   "source": [
    "'''\n",
    "# Convert sentiment to numerical value\n",
    "def mapfunc(x):\n",
    "    output = None\n",
    "    if x==\"negative\":\n",
    "        output = -1\n",
    "    elif x==\"neutral\":\n",
    "        output = 0\n",
    "    elif x==\"positive\":\n",
    "        output = 1\n",
    "    return output\n",
    "\n",
    "# Apply map function to dataframe column\n",
    "df_processed['sent_num'] = df_processed['sentiment']\\\n",
    "                                .map(lambda x: mapfunc(x))\n",
    "df_processed.head()\n",
    "'''\n",
    "\n",
    "# Compare actual star sentiment vs. predicted sentiment from VADER\n",
    "# Print Classification Report\n",
    "print(classification_report(df_processed['star_sentiment'], df_processed['sent_num']))\n",
    "\n",
    "# Confusion matrix\n",
    "mcm_sent = confusion_matrix(df_processed['star_sentiment'], df_processed['sent_num'])\n",
    "print(f\"Confusion matrix: \\n\", mcm_sent)\n",
    "\n",
    "# Plot confusion Matrix\n",
    "plt.figure(figsize = (4,4))\n",
    "plt.imshow(mcm_sent, interpolation=\"nearest\", cmap=plt.cm.Blues)\n",
    "plt.colorbar()\n",
    "tick_marks = np.arange(3)\n",
    "#plt.xticks(tick_marks, [-1,0,1])\n",
    "#plt.yticks(tick_marks, [-1,0,1])\n",
    "plt.xticks(tick_marks, [\"Neg\",\"Neu\",\"Pos\"])\n",
    "plt.yticks(tick_marks, [\"Neg\",\"Neu\",\"Pos\"])\n",
    "plt.xlabel(\"Actual\")\n",
    "plt.ylabel(\"Predicted\")\n",
    "plt.title('VADER Results')\n",
    "plt.show()\n"
   ]
  },
  {
   "cell_type": "markdown",
   "id": "3feb4b54",
   "metadata": {},
   "source": [
    "### Sentiment Analysis with Transformers Library"
   ]
  },
  {
   "cell_type": "code",
   "execution_count": null,
   "id": "8a2afde4",
   "metadata": {},
   "outputs": [],
   "source": [
    "start = time.time()\n",
    "\n",
    "sentiment_pipeline = pipeline(task = \"sentiment-analysis\",\n",
    "                            model = \"finiteautomata/bertweet-base-sentiment-analysis\",\n",
    "                            numlabels = 3)\n",
    "trans_sentiment_results = list()\n",
    "\n",
    "text_list = df_processed.processed_text.sample(n=50).to_list()\n",
    "for text in text_list:\n",
    "    trans_sentiment_results.append(sentiment_pipeline(text))\n",
    "\n",
    "trans_sentiment_results\n",
    "end = time.time()\n",
    "print(f\"Time elapsed: {round((end - start)/60,1)} min\")\n",
    "#sentiment_results = tqdm(sentiment_pipeline(processed_text))"
   ]
  },
  {
   "cell_type": "markdown",
   "id": "e2a5514d",
   "metadata": {},
   "source": [
    "**Custom Sort DataFrame Function**"
   ]
  },
  {
   "cell_type": "code",
   "execution_count": 6,
   "id": "8f88430f",
   "metadata": {},
   "outputs": [
    {
     "data": {
      "text/plain": [
       "\"\\n# Sort the dataframe\\nsorted_scores, arranged_columns, sorted_indices = sort_df(df_tfidf)\\n\\nfig, ax = plt.subplots(figsize=(5, 3))\\nax.bar(x=arranged_columns[:10], height=sorted_scores[0:10])\\nax.set_xlabel('Counted Words')\\nax.set_ylabel('Siginificance')\\nax.set_title('TFIDF Top 10 Words')\\nax.tick_params(axis='x', labelrotation=45)\\nplt.show()\\n\\n\""
      ]
     },
     "execution_count": 6,
     "metadata": {},
     "output_type": "execute_result"
    }
   ],
   "source": [
    "def sort_df(mydf):\n",
    "    # Sort the dataframe\n",
    "    start = time.time()\n",
    "    numrows = mydf.shape[0]\n",
    "    # Sort the dataframe columns by normalized column score\n",
    "    col_norm = list()\n",
    "    arranged_columns = list()\n",
    "    # Intitalize arrays\n",
    "    sorted_scores = np.zeros((numrows, 1), dtype=np.float32)\n",
    "    sorted_indices = np.zeros((numrows, 1), dtype=np.int32)\n",
    "    # Get normalized column score\n",
    "    col_norm = [np.linalg.norm(mydf[col]) for col in mydf.columns]\n",
    "    \n",
    "    # Get the descending sort on the normalized scores\n",
    "    sorted_scores = np.sort(col_norm)[::-1]\n",
    "    # Get the indices for a descending sort\n",
    "    sorted_indices = np.argsort(col_norm)[::-1]\n",
    "    # Get a list of the sorted column names     \n",
    "    arranged_columns = df_tfidf.columns[sorted_indices].to_list()\n",
    "    # Reindex the dataframe\n",
    "    #sorted_df = mydf.reindex(columns=arranged_columns)\n",
    "    #sorted_df.iloc[0,:] = sorted_scores\n",
    "    end = time.time()\n",
    "    print(f\"Time elapsed: {round((end - start)/60,1)} min\")\n",
    "    return sorted_scores, arranged_columns, sorted_indices\n",
    "\n",
    "'''\n",
    "# Sort the dataframe\n",
    "sorted_scores, arranged_columns, sorted_indices = sort_df(df_tfidf)\n",
    "\n",
    "fig, ax = plt.subplots(figsize=(5, 3))\n",
    "ax.bar(x=arranged_columns[:10], height=sorted_scores[0:10])\n",
    "ax.set_xlabel('Counted Words')\n",
    "ax.set_ylabel('Siginificance')\n",
    "ax.set_title('TFIDF Top 10 Words')\n",
    "ax.tick_params(axis='x', labelrotation=45)\n",
    "plt.show()\n",
    "'''"
   ]
  },
  {
   "cell_type": "markdown",
   "id": "d1cb0411",
   "metadata": {},
   "source": [
    "## Model Accuracy Score Comparison"
   ]
  },
  {
   "cell_type": "code",
   "execution_count": 71,
   "id": "5a5ad303",
   "metadata": {},
   "outputs": [
    {
     "data": {
      "image/png": "[encoded data removed]",
      "text/plain": [
       "<Figure size 600x400 with 1 Axes>"
      ]
     },
     "metadata": {},
     "output_type": "display_data"
    }
   ],
   "source": [
    "\n",
    "acc_models = ['Logistic Regression', 'SVC', 'Naive Bayes', 'Random Forest', 'NLTK VADER']\n",
    "acc_scores = [accuracy_score(y_test, log_pred),\n",
    "                accuracy_score(y_test, nb_y_pred),\n",
    "                accuracy_score(y_test, svc_y_pred),\n",
    "                accuracy_score(y_test, rf_y_pred),\n",
    "                accuracy_score(df_processed['star_sentiment'], df_processed['sent_num'])]\n",
    "# Plot bar graph\n",
    "fig, ax = plt.subplots(figsize=(6, 4))\n",
    "ax.bar(x=acc_models, height=acc_scores)\n",
    "ax.tick_params(axis='x', labelrotation=45)\n",
    "ax.set_title('Accuracy Score Comparison')\n",
    "ax.set_ylabel('Accuracy')\n",
    "plt.show()"
   ]
  },
  {
   "cell_type": "markdown",
   "id": "f2657c5c",
   "metadata": {},
   "source": [
    "## Summary</br>\n",
    "\n",
    "<span style=\"color: blue; font-family: Arial; font-size: 16px; background-color: #EEEEEE\">\n",
    "This notebook outlines the operations to perform sentment analysis on the yelp review training dataset comprised of 650k reviews. A preprocessing function was used to transform the reviews lemmatized words with no stop words or special characters. The process took over 20 hours to process the entire 650k reviews. The dataset was written to a local binary file (pickled) to prevent having to regenerate the dataset. </br>\n",
    "\n",
    "An assumption was made that (1,2) stars are a negative sentiment, a 3 stars equated to a neutral sentiment, and (4,5) stars are a positive sentiment. The processed reviews were then vectorized to create features using TF-IDF. This process yielded a sparse matrix of features to model against the star review ratings. The initial dataset included a equal distribution of number of stars (classes).  \n",
    "\n",
    "The dataset was split 70% train / 30% test for modeling. Log-regression, SVM, Naive Bayes, and Random Forest multinomial classification models were used to make sentiment prediction. The stars to sentiment conversion, yields an imbalanced set where 'neutral' is 3 stars where 'positive' is both (4,5) stars. Thus a class weighting was supplied to the models to account for the class imbalance.Comparing accuracy results show a Naive Bayes performed the best.\n",
    "\n",
    "NLTK 'SentimentIntensityAnalyzer' which uses the Valence Aware Dictionary and Sentiment Reasoner (VADER) was used to perform sentiment analysis on the processed reviews. This model is a 'black box' model that operates on the processed reviews. The VADER model applied to the actual text performed the worst on predicting sentinment. \n"
   ]
  }
 ],
 "metadata": {
  "kernelspec": {
   "display_name": "Python 3 (ipykernel)",
   "language": "python",
   "name": "python3"
  },
  "language_info": {
   "codemirror_mode": {
    "name": "ipython",
    "version": 3
   },
   "file_extension": ".py",
   "mimetype": "text/x-python",
   "name": "python",
   "nbconvert_exporter": "python",
   "pygments_lexer": "ipython3",
   "version": "3.10.9"
  }
 },
 "nbformat": 4,
 "nbformat_minor": 5
}
